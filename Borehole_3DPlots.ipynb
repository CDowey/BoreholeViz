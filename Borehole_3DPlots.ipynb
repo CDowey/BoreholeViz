{
 "cells": [
  {
   "cell_type": "markdown",
   "metadata": {},
   "source": [
    "### 3-D Borehole Plots\n",
    "\n",
    "Not all boreholes are perfectly vertical. With well-logging equipment the Vermont Geological Survey and SUNY Plattsburgh are able to quantify a borehole's deviation from vertical and the location of the borehole in x, y, z space. The following script interprets the information from the well-logging and plots the well in a 3-D interactive view."
   ]
  },
  {
   "cell_type": "code",
   "execution_count": 1,
   "metadata": {},
   "outputs": [
    {
     "ename": "ModuleNotFoundError",
     "evalue": "No module named 'plotly'",
     "output_type": "error",
     "traceback": [
      "\u001b[1;31m---------------------------------------------------------------------------\u001b[0m",
      "\u001b[1;31mModuleNotFoundError\u001b[0m                       Traceback (most recent call last)",
      "\u001b[1;32m<ipython-input-1-b26d705fc4b7>\u001b[0m in \u001b[0;36m<module>\u001b[1;34m()\u001b[0m\n\u001b[0;32m      4\u001b[0m \u001b[1;32mimport\u001b[0m \u001b[0mnumpy\u001b[0m \u001b[1;32mas\u001b[0m \u001b[0mnp\u001b[0m\u001b[1;33m\u001b[0m\u001b[0m\n\u001b[0;32m      5\u001b[0m \u001b[1;32mimport\u001b[0m \u001b[0mmath\u001b[0m\u001b[1;33m\u001b[0m\u001b[0m\n\u001b[1;32m----> 6\u001b[1;33m \u001b[1;32mimport\u001b[0m \u001b[0mplotly\u001b[0m\u001b[1;33m\u001b[0m\u001b[0m\n\u001b[0m\u001b[0;32m      7\u001b[0m \u001b[1;32mimport\u001b[0m \u001b[0mplotly\u001b[0m\u001b[1;33m.\u001b[0m\u001b[0mgraph_objs\u001b[0m \u001b[1;32mas\u001b[0m \u001b[0mgo\u001b[0m\u001b[1;33m\u001b[0m\u001b[0m\n",
      "\u001b[1;31mModuleNotFoundError\u001b[0m: No module named 'plotly'"
     ]
    }
   ],
   "source": [
    "# Import necessary libraries\n",
    "\n",
    "import pandas as pd\n",
    "import numpy as np\n",
    "import math\n",
    "import plotly\n",
    "import plotly.graph_objs as go"
   ]
  },
  {
   "cell_type": "markdown",
   "metadata": {},
   "source": [
    "The script reads in excel files with well-logging information contained in the following three columns:\n",
    "\n",
    "- 'Depth (m)'\t\n",
    "- 'Azimuth (°)'\t\n",
    "- 'Tilt (°)'"
   ]
  },
  {
   "cell_type": "code",
   "execution_count": null,
   "metadata": {},
   "outputs": [],
   "source": [
    "# Read in data to dataframe\n",
    "\n",
    "bore_data = pd.read_excel(\"\")\n",
    "print('This dataset contains {0} rows.'.format(len(bore_data)))"
   ]
  },
  {
   "cell_type": "markdown",
   "metadata": {},
   "source": [
    "### Calculating the position of well-bore in X, Y, Z space\n",
    "\n",
    "The starting point of the well is set to X = 0 and Y = 0. The initial True Vertical Depth is set to the first depth measurement.\n",
    "- X increases to the east and decreases to the west. \n",
    "- Y increases to the north and decreases to the south.\n",
    "\n"
   ]
  },
  {
   "cell_type": "code",
   "execution_count": null,
   "metadata": {
    "scrolled": true
   },
   "outputs": [],
   "source": [
    "# Set Initial Well Position to Starting Depth, X = 0, Y = 0\n",
    "\n",
    "bore_data.loc[0,'True Vertical Depth (m)'] = bore_data.loc[0,'Depth (m)']\n",
    "bore_data.loc[0,'X (m)'] = 0\n",
    "bore_data.loc[0,'Y (m)'] = 0"
   ]
  },
  {
   "cell_type": "markdown",
   "metadata": {},
   "source": [
    "##### Calculation Methods\n",
    "From the Depth, Azimuth, and Tilt measurements from the well-logging equipment we can calculate the position of the well in x, y, z space. Depending on the required accuracy and interval between measurements there are a series of [calculation methods](https://wiki.aapg.org/Depth_and_thickness_conversion).\n",
    "\n",
    "In the case of these wells the interval between measurements is 0.004 meters. This is such a short interval the borehole can be accurately described by linear segments between points. For a larger interval the Minimum Curvature Method is more accurate."
   ]
  },
  {
   "cell_type": "code",
   "execution_count": null,
   "metadata": {},
   "outputs": [],
   "source": [
    "# Iterate through dataframe and calculate True Vertical Depth, X, and Y for each set of borehole measurements\n",
    "\n",
    "for i in range(1, len(raw_borehole_data)):\n",
    "    bore_data.loc[i,'True Vertical Depth (m)'] = (bore_data.loc[(i - 1), 'True Vertical Depth (m)'] + ((bore_data.loc[i, 'Depth (m)'] - bore_data.loc[(i-1), 'Depth (m)'])*math.cos(math.radians(bore_data.loc[i, 'Tilt (°)']))))\n",
    "    bore_data.loc[i, 'X (m)'] = (bore_data.loc[(i-1), 'X (m)']) + ((bore_data.loc[i, 'Depth (m)'] - bore_data.loc[(i-1), 'Depth (m)'])*(math.sin(math.radians(bore_data.loc[i, 'Tilt (°)'])))*(math.cos(math.radians(bore_data.loc[i, 'Azimuth (°)']))))\n",
    "    bore_data.loc[i, 'Y (m)'] = (bore_data.loc[(i-1), 'Y (m)']) + ((bore_data.loc[i, 'Depth (m)'] - bore_data.loc[(i-1), 'Depth (m)'])*(math.sin(math.radians(bore_data.loc[i, 'Tilt (°)'])))*(math.sin(math.radians(bore_data.loc[i, 'Azimuth (°)']))))"
   ]
  },
  {
   "cell_type": "code",
   "execution_count": null,
   "metadata": {},
   "outputs": [],
   "source": [
    "# Set data for plot and express depth as negative numbers\n",
    "\n",
    "x = bore_data['X (m)']\n",
    "y = bore_data['Y (m)']\n",
    "z = bore_data['True Vertical Depth (m)'] * -1"
   ]
  },
  {
   "cell_type": "markdown",
   "metadata": {},
   "source": [
    "Use [Plotly](https://plot.ly/python/) for its ability to create 3-D interactive [line plots](https://plot.ly/python/3d-line-plots/)"
   ]
  },
  {
   "cell_type": "code",
   "execution_count": null,
   "metadata": {},
   "outputs": [],
   "source": [
    "# Configure Plotly to be rendered inline in the notebook\n",
    "\n",
    "plotly.offline.init_notebook_mode()\n",
    "\n",
    "# Configure the trace\n",
    "\n",
    "trace = go.Scatter3d(\n",
    "    x=x,  \n",
    "    y=y,  \n",
    "    z=z,  \n",
    "    mode='markers',\n",
    "    marker={\n",
    "        'size': 2,\n",
    "        'opacity': 0.8,\n",
    "        'color' : bore_data['Tilt (°)'],\n",
    "        'colorbar' : dict(title='Tilt (°)'),\n",
    "        'colorscale' : 'JET'\n",
    "    }\n",
    ")\n",
    "\n",
    "# Configure the layout\n",
    "layout = go.Layout(\n",
    "    margin={'l': 0, 'r': 0, 'b': 0, 't': 0},\n",
    "    scene=dict(camera=dict(eye=dict(x=4, y=4, z=4)), #the default values are 1.25, 1.25, 1.25\n",
    "           xaxis=dict(),\n",
    "           yaxis=dict(),\n",
    "           zaxis=dict(),\n",
    "           aspectmode='manual', # this can be 'data', 'cube', 'auto', 'manual'\n",
    "           # custom aspect ratio\n",
    "           aspectratio=dict(x=1, y=1, z=5)\n",
    "           )\n",
    ")\n",
    "\n",
    "data = [trace]\n",
    "\n",
    "plot_figure = go.Figure(data=data, layout=layout)\n",
    "\n",
    "# Render the plot.\n",
    "plotly.offline.iplot(plot_figure)"
   ]
  }
 ],
 "metadata": {
  "kernelspec": {
   "display_name": "Python 3",
   "language": "python",
   "name": "python3"
  },
  "language_info": {
   "codemirror_mode": {
    "name": "ipython",
    "version": 3
   },
   "file_extension": ".py",
   "mimetype": "text/x-python",
   "name": "python",
   "nbconvert_exporter": "python",
   "pygments_lexer": "ipython3",
   "version": "3.6.5"
  }
 },
 "nbformat": 4,
 "nbformat_minor": 2
}
